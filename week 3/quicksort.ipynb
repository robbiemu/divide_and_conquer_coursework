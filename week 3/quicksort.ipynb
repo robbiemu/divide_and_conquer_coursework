{
 "cells": [
  {
   "cell_type": "markdown",
   "metadata": {},
   "source": [
    "# Programming assignment 3\n",
    "_src: [Programming Assignment 3](https://www.coursera.org/learn/algorithms-divide-conquer/exam/37cop/programming-assignment-3/attempt)_"
   ]
  },
  {
   "cell_type": "code",
   "execution_count": 1,
   "metadata": {},
   "outputs": [],
   "source": [
    "import sys\n",
    "sys.path.append('.')\n",
    "sys.path.append('..')\n",
    "from problem_loader import ProblemLoader\n",
    "import random\n",
    "\n",
    "data_urls = {\n",
    "  'problem1': 'https://d18ky98rnyall9.cloudfront.net/_32387ba40b36359a38625cbb397eee65_QuickSort.txt?Expires=1621209600&Signature=fskwuDZZ1E8fxC327nf~1Zm0dVFM4L7b~Lyj4qkF9Ml8WdxJc2viKMkDQvkAU1CM5yJhQPXNtNq7tbstriG~e89CqoFiusndzRjwq-G2IKaPEPOJMg~JUlx2v5VnIJ6aWXpQX4rtRoS5eLEccNy0L9cMkKBKQPbKtovTVHv~0Bw_&Key-Pair-Id=APKAJLTNE6QMUY6HBC5A',\n",
    "}\n"
   ]
  },
  {
   "cell_type": "markdown",
   "metadata": {},
   "source": [
    "The basic algorithm"
   ]
  },
  {
   "cell_type": "markdown",
   "metadata": {},
   "source": [
    "## Problem 1\n",
    "\n",
    "### Description\n",
    " Your task is to compute the total number of comparisons used to sort the given input file by QuickSort.  As you know, the number of comparisons depends on which elements are chosen as pivots, so we'll ask you to explore three different pivoting rules.\n",
    "\n",
    "You should not count comparisons one-by-one.  Rather, when there is a recursive call on a subarray of length $m$, you should simply add $m−1$ to your running total of comparisons.  (This is because the pivot element is compared to each of the other m-1m−1 elements in the subarray in this recursive call.)\n",
    "\n",
    "#### WARNING: \n",
    "The Partition subroutine can be implemented in several different ways, and different implementations can give you differing numbers of comparisons.  For this problem, you should implement the Partition subroutine exactly as it is described in the video lectures (otherwise you might get the wrong answer).\n",
    "\n",
    "### DIRECTIONS FOR THIS PROBLEM:\n",
    "\n",
    "For the first part of the programming assignment, you should always use the first element of the array as the pivot element.\n"
   ]
  },
  {
   "cell_type": "code",
   "execution_count": 2,
   "metadata": {},
   "outputs": [
    {
     "name": "stdout",
     "output_type": "stream",
     "text": [
      "[2148, 9058, 7742, 3153, 6324, 609, 7628, 5469, 7017, 504]\n"
     ]
    }
   ],
   "source": [
    "values = ProblemLoader(data_urls['problem1']).fetch()\n",
    "print(values[:10])"
   ]
  },
  {
   "cell_type": "code",
   "execution_count": 3,
   "metadata": {},
   "outputs": [],
   "source": [
    "class QuickSort():\n",
    "  def __init__(self, arr=None):\n",
    "    self.arr = arr if arr != None else []\n",
    "    self.comparisons=0\n",
    "\n",
    "  def choosePivot(self, mid, left, right):\n",
    "    return self.arr[left]\n",
    "\n",
    "  def partition(self, left, right):\n",
    "    mid = (right + left) // 2\n",
    "    pivot = self.choosePivot(mid, left, right)\n",
    "\n",
    "    if right - left > 1:\n",
    "      if pivot == self.arr[right]:\n",
    "        self.arr[left], self.arr[right] = self.arr[right], self.arr[left]\n",
    "      elif pivot == self.arr[mid]:\n",
    "        self.arr[left], self.arr[mid] = self.arr[mid], self.arr[left]\n",
    "\n",
    "    i = left + 1\n",
    "    self.comparisons += right - left\n",
    "    for j in range(left+1, right+1):\n",
    "      if self.arr[j] < pivot:\n",
    "        self.arr[j], self.arr[i] = self.arr[i], self.arr[j]\n",
    "        i += 1\n",
    "\n",
    "    self.arr[left], self.arr[i-1] = self.arr[i-1], self.arr[left]\n",
    "    return i - 1 \n",
    "\n",
    "  def sort(self, left=None, right=None):          \n",
    "    if left == None:\n",
    "      left = 0\n",
    "    if right == None:\n",
    "      right = len(self.arr) - 1\n",
    "\n",
    "    if right < left:\n",
    "      return\n",
    "\n",
    "    p = self.partition(left=left, right=right)\n",
    "\n",
    "    self.sort(left=left, right=p - 1)\n",
    "    self.sort(left=p + 1, right=right)\n",
    "\n",
    "    return self.comparisons"
   ]
  },
  {
   "cell_type": "code",
   "execution_count": 4,
   "metadata": {},
   "outputs": [
    {
     "name": "stdout",
     "output_type": "stream",
     "text": [
      "m is 162085 [1, 2, 3, 4, 5, 6, 7, 8, 9, 10]\n"
     ]
    }
   ],
   "source": [
    "qs = QuickSort(arr=values.copy())\n",
    "m = qs.sort()\n",
    "print('m is', m, qs.arr[:10])"
   ]
  },
  {
   "cell_type": "markdown",
   "metadata": {},
   "source": [
    "## Problem 2\n",
    "Compute the number of comparisons (as in Problem 1), always using the final element of the given array as the pivot element.  Again, be sure to implement the Partition subroutine exactly as it is described in the video lectures.\n",
    "\n",
    "Recall from the lectures that, just before the main Partition subroutine, you should exchange the pivot element (i.e., the last element) with the first element."
   ]
  },
  {
   "cell_type": "code",
   "execution_count": 5,
   "metadata": {},
   "outputs": [],
   "source": [
    "class P2QS(QuickSort):\n",
    "  def choosePivot(self, mid, left, right):\n",
    "    return self.arr[right]\n"
   ]
  },
  {
   "cell_type": "code",
   "execution_count": 6,
   "metadata": {},
   "outputs": [
    {
     "name": "stdout",
     "output_type": "stream",
     "text": [
      "m is 164123 [1, 2, 3, 4, 5, 6, 7, 8, 9, 10]\n"
     ]
    }
   ],
   "source": [
    "qs = P2QS(arr=values.copy())\n",
    "m = qs.sort()\n",
    "print('m is', m, qs.arr[:10])"
   ]
  },
  {
   "cell_type": "markdown",
   "metadata": {},
   "source": [
    "## Problem 3\n",
    "Compute the number of comparisons (as in Problem 1), using the \"median-of-three\" pivot rule. _(The primary motivation behind this rule is to do a little bit of extra work to get much better performance on input arrays that are nearly sorted or reverse sorted.)_  In more detail, you should choose the pivot as follows.  Consider the first, middle, and final elements of the given array.  (If the array has odd length it should be clear what the \"middle\" element is; for an array with even length $2k$, use the $k^{th}$ element as the \"middle\" element. So for the array `[4 5 6 7]`,  the _middle_ element is the second one -- _5 and not 6!_)  Identify which of these three elements is the median (i.e., the one whose value is in between the other two), and use this as your pivot.  As discussed in the first and second parts of this programming assignment, be sure to implement Partition exactly as described in the video lectures (including exchanging the pivot element with the first element just before the main Partition subroutine).\n",
    "\n",
    "### EXAMPLE: \n",
    "For the input array `[8 2 4 5 7 1]` you would consider the first ($8$), middle ($4$), and last ($1$) elements; since $4$ is the median of the set $\\{1,4,8\\}$, you would use $4$ as your pivot element.\n",
    "\n",
    "### SUBTLE POINT: \n",
    "A careful analysis would keep track of the comparisons made in identifying the median of the three candidate elements.  You should NOT do this.  That is, as in the previous two problems, you should simply add $m-1$ to your running total of comparisons every time you recurse on a subarray with length "
   ]
  },
  {
   "cell_type": "code",
   "execution_count": 7,
   "metadata": {},
   "outputs": [],
   "source": [
    "from statistics import median\n",
    "\n",
    "class P3QS(QuickSort):\n",
    "  def choosePivot(self, mid, left, right):\n",
    "    return median([self.arr[left], self.arr[right], self.arr[mid]])"
   ]
  },
  {
   "cell_type": "code",
   "execution_count": 8,
   "metadata": {},
   "outputs": [
    {
     "name": "stdout",
     "output_type": "stream",
     "text": [
      "m is 138382 [1, 2, 3, 4, 5, 6, 7, 8, 9, 10]\n"
     ]
    }
   ],
   "source": [
    "qs = P3QS(arr=values.copy())\n",
    "m = qs.sort()\n",
    "print('m is', m, qs.arr[:10])"
   ]
  }
 ],
 "metadata": {
  "kernelspec": {
   "display_name": "Python 3.9.1 64-bit",
   "name": "python391jvsc74a57bd0aee8b7b246df8f9039afb4144a1f6fd8d2ca17a180786b69acc140d282b71a49"
  },
  "language_info": {
   "codemirror_mode": {
    "name": "ipython",
    "version": 3
   },
   "file_extension": ".py",
   "mimetype": "text/x-python",
   "name": "python",
   "nbconvert_exporter": "python",
   "pygments_lexer": "ipython3",
   "version": "3.9.1"
  },
  "metadata": {
   "interpreter": {
    "hash": "aee8b7b246df8f9039afb4144a1f6fd8d2ca17a180786b69acc140d282b71a49"
   }
  },
  "orig_nbformat": 2
 },
 "nbformat": 4,
 "nbformat_minor": 2
}