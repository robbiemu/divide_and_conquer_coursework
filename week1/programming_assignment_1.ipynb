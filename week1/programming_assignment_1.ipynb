{
 "cells": [
  {
   "cell_type": "code",
   "execution_count": 18,
   "metadata": {},
   "outputs": [],
   "source": [
    "def karatsuba(x,y):\n",
    "    if (x < 10) or (y < 10):\n",
    "        return x * y\n",
    "    \n",
    "    # Calculates the size of the numbers.\n",
    "    m = min(len(str(x)), len(str(y)))\n",
    "    m2 = m // 2 \n",
    "    \n",
    "    # Split the digit sequences in the middle.\n",
    "    a = int(x // 10**m2)\n",
    "    b = int(x % 10**m2)\n",
    "    c = int(y // 10**m2)\n",
    "    d = int(y % 10**m2)\n",
    "    \n",
    "    # 3 calls made to numbers approximately half the size.\n",
    "    z0 = karatsuba(b, d)\n",
    "    z1 = karatsuba(b + a, d + c)\n",
    "    z2 = karatsuba(a, c)\n",
    "    \n",
    "    return (z2 * 10 ** (m2 * 2)) + ((z1 - z2 - z0) * 10 ** m2) + z0\n"
   ]
  },
  {
   "cell_type": "code",
   "execution_count": 19,
   "metadata": {},
   "outputs": [
    {
     "name": "stdout",
     "output_type": "stream",
     "text": [
      "1099511627776 1099511627776\n"
     ]
    }
   ],
   "source": [
    "assert(karatsuba(1024**2, 1024**2) == (1024**2)**2)"
   ]
  },
  {
   "cell_type": "code",
   "execution_count": 21,
   "metadata": {},
   "outputs": [
    {
     "data": {
      "text/plain": "8539734222673567065463550869546574495034888535765114961879601127067743044893204848617875072216249073013374895871952806582723184"
     },
     "execution_count": 21,
     "metadata": {},
     "output_type": "execute_result"
    }
   ],
   "source": [
    "x = 3141592653589793238462643383279502884197169399375105820974944592\n",
    "y = 2718281828459045235360287471352662497757247093699959574966967627\n",
    "karatsuba(x,y)"
   ]
  }
 ],
 "metadata": {
  "kernelspec": {
   "display_name": "Python 3",
   "language": "python",
   "name": "python3"
  },
  "language_info": {
   "name": "python",
   "version": ""
  },
  "orig_nbformat": 2
 },
 "nbformat": 4,
 "nbformat_minor": 2
}