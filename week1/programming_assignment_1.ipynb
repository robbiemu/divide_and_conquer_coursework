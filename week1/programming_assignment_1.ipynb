{
 "cells": [
  {
   "cell_type": "code",
   "execution_count": 1,
   "source": [
    "import sys\n",
    "sys.path.append('.')\n",
    "sys.path.append('..')\n",
    "from helpers import obfuscate"
   ],
   "outputs": [],
   "metadata": {}
  },
  {
   "cell_type": "code",
   "execution_count": 2,
   "source": [
    "def karatsuba(x,y):\n",
    "    if (x < 10) or (y < 10):\n",
    "        return x * y\n",
    "    \n",
    "    # Calculates the size of the numbers.\n",
    "    m = min(len(str(x)), len(str(y)))\n",
    "    m2 = m // 2 \n",
    "    \n",
    "    # Split the digit sequences in the middle.\n",
    "    a = int(x // 10**m2)\n",
    "    b = int(x % 10**m2)\n",
    "    c = int(y // 10**m2)\n",
    "    d = int(y % 10**m2)\n",
    "    \n",
    "    # 3 calls made to numbers approximately half the size.\n",
    "    z0 = karatsuba(b, d)\n",
    "    z1 = karatsuba(b + a, d + c)\n",
    "    z2 = karatsuba(a, c)\n",
    "    \n",
    "    return (z2 * 10 ** (m2 * 2)) + ((z1 - z2 - z0) * 10 ** m2) + z0\n"
   ],
   "outputs": [],
   "metadata": {}
  },
  {
   "cell_type": "code",
   "execution_count": 3,
   "source": [
    "assert(karatsuba(1024**2, 1024**2) == (1024**2)**2)"
   ],
   "outputs": [],
   "metadata": {}
  },
  {
   "cell_type": "code",
   "execution_count": 4,
   "source": [
    "x = 3141592653589793238462643383279502884197169399375105820974944592\n",
    "y = 2718281828459045235360287471352662497757247093699959574966967627\n",
    "solution = karatsuba(x,y)\n",
    "obfuscate(solution)"
   ],
   "outputs": [],
   "metadata": {}
  }
 ],
 "metadata": {
  "kernelspec": {
   "name": "python3",
   "display_name": "Python 3.9.1 64-bit"
  },
  "language_info": {
   "name": "python",
   "version": "3.9.1",
   "mimetype": "text/x-python",
   "codemirror_mode": {
    "name": "ipython",
    "version": 3
   },
   "pygments_lexer": "ipython3",
   "nbconvert_exporter": "python",
   "file_extension": ".py"
  },
  "orig_nbformat": 2,
  "interpreter": {
   "hash": "aee8b7b246df8f9039afb4144a1f6fd8d2ca17a180786b69acc140d282b71a49"
  }
 },
 "nbformat": 4,
 "nbformat_minor": 2
}