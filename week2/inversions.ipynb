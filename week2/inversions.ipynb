{
 "cells": [
  {
   "cell_type": "code",
   "execution_count": 1,
   "source": [
    "import requests\n",
    "import pickle\n",
    "import logging\n",
    "\n",
    "data_url = 'https://d18ky98rnyall9.cloudfront.net/_bcb5c6658381416d19b01bfc1d3993b5_IntegerArray.txt?Expires=1620604800&Signature=VBTHppVy8TU1LtxKLNOEZ5hCdGEUNK3KuZiWINTHRGS19WKjN-bes9hBkvA4LbNjW8AeCaCFStwZHmsHHe0MM7qb3pfLbB5vGb5hAPU6odRE2YjRN77GG3ErSeLYuKz53mLqrhX1gjBTC24bcWrZyLdxfMZeS1fyNA-Xcf75cBk_&Key-Pair-Id=APKAJLTNE6QMUY6HBC5A'\n",
    "\n",
    "def preprocess_data(data):\n",
    "  return list(map(int, data.split())) \n",
    "\n",
    "ints = []\n",
    "try:\n",
    "    logging.info(\"Loading existing dataset\")\n",
    "    ints = pickle.load(open(\"100kint.p\", \"rb\"))\n",
    "except:\n",
    "    logging.debug(\"Failed to load existing dataset!\")\n",
    "    logging.info(\"Preprocess new dataset\")\n",
    "    r = requests.get(data_url, allow_redirects=True)\n",
    "    ints = preprocess_data(r.content)\n",
    "    pickle.dump(ints, open(\"100kint.p\", \"wb\"))"
   ],
   "outputs": [],
   "metadata": {}
  },
  {
   "cell_type": "code",
   "execution_count": 2,
   "source": [
    "import sys\n",
    "sys.path.append('.')\n",
    "sys.path.append('..')\n",
    "from helpers import obfuscate"
   ],
   "outputs": [],
   "metadata": {}
  },
  {
   "cell_type": "code",
   "execution_count": 3,
   "source": [
    "def merge_sort_with_count(arr, work_arr, start, mid, end):\n",
    "  left = start\n",
    "  right = mid + 1\n",
    "  out = start\n",
    "  cnt = 0\n",
    "\n",
    "  while left <= mid and right <= end:\n",
    "    if arr[left] <= arr[right]:\n",
    "      work_arr[out] = arr[left]\n",
    "      left += 1\n",
    "    else:\n",
    "      work_arr[out] = arr[right]\n",
    "      right += 1\n",
    "      cnt += (mid - left + 1)\n",
    "    out += 1\n",
    "\n",
    "  while left <= mid:\n",
    "    work_arr[out] = arr[left]\n",
    "    out += 1\n",
    "    left += 1\n",
    "  \n",
    "  while right <= end:\n",
    "    work_arr[out] = arr[right]\n",
    "    out += 1\n",
    "    right += 1\n",
    "  \n",
    "  for x in range(start, end + 1): # apply sort to arr\n",
    "    arr[x] = work_arr[x]\n",
    "  \n",
    "  return cnt"
   ],
   "outputs": [],
   "metadata": {}
  },
  {
   "cell_type": "code",
   "execution_count": 4,
   "source": [
    "def count_merge_sort(arr, res, left, right):\n",
    "  cnt = 0\n",
    "  if left < right:\n",
    "    mid = (left + right) // 2\n",
    "    cnt += count_merge_sort(arr, res, left, mid)\n",
    "    cnt += count_merge_sort(arr, res, mid + 1, right)\n",
    "    cnt += merge_sort_with_count(arr, res, left, mid, right)\n",
    "  return cnt\n"
   ],
   "outputs": [],
   "metadata": {}
  },
  {
   "cell_type": "code",
   "execution_count": 6,
   "source": [
    "n = len(ints)\n",
    "result = count_merge_sort(ints, [0]*n, 0, n - 1)\n",
    "obfuscate(f\"Number of inversions: {result}\")\n"
   ],
   "outputs": [],
   "metadata": {}
  }
 ],
 "metadata": {
  "kernelspec": {
   "name": "python3",
   "display_name": "Python 3.9.1 64-bit"
  },
  "language_info": {
   "codemirror_mode": {
    "name": "ipython",
    "version": 3
   },
   "file_extension": ".py",
   "mimetype": "text/x-python",
   "name": "python",
   "nbconvert_exporter": "python",
   "pygments_lexer": "ipython3",
   "version": "3.9.1"
  },
  "metadata": {
   "interpreter": {
    "hash": "aee8b7b246df8f9039afb4144a1f6fd8d2ca17a180786b69acc140d282b71a49"
   }
  },
  "orig_nbformat": 2,
  "interpreter": {
   "hash": "aee8b7b246df8f9039afb4144a1f6fd8d2ca17a180786b69acc140d282b71a49"
  }
 },
 "nbformat": 4,
 "nbformat_minor": 2
}