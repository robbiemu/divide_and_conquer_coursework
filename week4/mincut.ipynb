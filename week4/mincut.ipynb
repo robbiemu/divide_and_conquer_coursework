{
 "cells": [
  {
   "cell_type": "markdown",
   "metadata": {},
   "source": [
    "# Programming assignment 4\n",
    "_src: [Programming Assignment 4](https://www.coursera.org/learn/algorithms-divide-conquer/exam/AUmUg/programming-assignment-4/attempt)_"
   ]
  },
  {
   "cell_type": "code",
   "execution_count": 1,
   "metadata": {},
   "outputs": [],
   "source": [
    "import sys\n",
    "sys.path.append('.')\n",
    "sys.path.append('..')\n",
    "from problem_loader import ProblemLoader\n",
    "import copy\n",
    "import random\n",
    "from enum import Enum\n",
    "from statistics import mean\n",
    "from math import log, comb\n",
    "import time\n",
    "\n",
    "data_urls = {\n",
    "  'problem1': 'https://d18ky98rnyall9.cloudfront.net/_f370cd8b4d3482c940e4a57f489a200b_kargerMinCut.txt?Expires=1622505600&Signature=gemMmEleQVSofFHagOzWZ7hanib8dyiacrwf6khFPkg16KFFL~VxM8FxIfVUDK1Ut6ToU2rBLAOrf5eY-xwG0mbRBodh2y9x-t9ZZPV0Qp8w2ltj3IMMggSLSUSbnNzu7XrUYmdkuTSkHbleZWT~R8ACcHXCgiwMTQeCHmRbWuk_&Key-Pair-Id=APKAJLTNE6QMUY6HBC5A',\n",
    "}\n"
   ]
  },
  {
   "cell_type": "markdown",
   "metadata": {},
   "source": [
    "## Problem 1\n",
    "\n",
    "### Description\n",
    "The file contains the adjacency list representation of a simple undirected graph. There are 200 vertices labeled 1 to 200. The first column in the file represents the vertex label, and the particular row (other entries except the first column) tells all the vertices that the vertex is adjacent to. So for example, the $6^{th}$ \n",
    "th\n",
    "  row looks like : \"6\t155\t56\t52\t120\t......\". This just means that the vertex with label 6 is adjacent to (i.e., shares an edge with) the vertices with labels 155,56,52,120,......,etc\n",
    "\n",
    "Your task is to code up and run the randomized contraction algorithm for the min cut problem and use it on the above graph to compute the min cut.  \n",
    "\n",
    "#### HINT: \n",
    "Note that you'll have to figure out an implementation of edge contractions.  Initially, you might want to do this naively, creating a new graph from the old every time there's an edge contraction.  But you should also think about more efficient implementations.   \n",
    "\n",
    "#### WARNING: \n",
    "As per the video lectures, please make sure to run the algorithm many times with different random seeds, and remember the smallest cut that you ever find."
   ]
  },
  {
   "cell_type": "code",
   "execution_count": 2,
   "metadata": {},
   "outputs": [
    {
     "name": "stdout",
     "output_type": "stream",
     "text": [
      "[37, 79, 164, 155, 32, 87, 39, 113, 15, 18, 78, 175, 140, 200, 4, 160, 97, 191, 100, 91, 20, 69, 198, 196]\n"
     ]
    }
   ],
   "source": [
    "def preprocess_data(data):\n",
    "    values = {}\n",
    "    for line in list(filter(None, data.decode(\"utf-8\").split('\\r\\n'))):\n",
    "        elements = list(map(\n",
    "            int, \n",
    "            filter(None, line.split('\\t'))\n",
    "        ))    \n",
    "        values[elements[0]] = elements[1:]\n",
    "    return values\n",
    "    \n",
    "\n",
    "values = ProblemLoader(\n",
    "    data_urls['problem1'], \n",
    "    fname=\"graph.p\", \n",
    "    preprocessor=preprocess_data\n",
    ").fetch()\n",
    "print(values[1])"
   ]
  },
  {
   "cell_type": "code",
   "execution_count": 3,
   "metadata": {},
   "outputs": [],
   "source": [
    "class KargerLimits(Enum):\n",
    "  limit = 0\n",
    "  limit_n2logn = 1\n",
    "  limit_n = 2\n",
    "\n",
    "class Karger():\n",
    "  def __init__(self):\n",
    "    self.graph = None\n",
    "\n",
    "  def cut(self):\n",
    "    x, y = self.graph.keys()\n",
    "    #return min(len(self.graph[x]), len(self.graph[y]))\n",
    "    return len(self.graph[x])\n",
    "\n",
    "  def contract_edge(self, x, y):  \n",
    "    if x == y:\n",
    "      print('warning: same x,y',x,y, self.graph[x])\n",
    "\n",
    "    # -- merge the vertex at the edge into a single vertex\n",
    "    self.graph[x].extend(self.graph[y])\n",
    "\n",
    "    del self.graph[y]\n",
    "\n",
    "    for k,v in self.graph.items():\n",
    "      self.graph[k] = [i if i!=y else x for i in v] \n",
    "      # -- delete self loops (edge where both endpoints are the same)\n",
    "      self.graph[k] = list(filter(lambda i: i != k, self.graph[k]))\n",
    "\n",
    "  def get_edge(self):\n",
    "    x = random.choice(list(self.graph.keys()))\n",
    "    y = random.choice(self.graph[x])\n",
    "    return x, y\n",
    "\n",
    "  def get_limit(self, limit_type, graph):\n",
    "    n = len(graph.keys())\n",
    "    if limit_type == KargerLimits.limit_n:\n",
    "      return n\n",
    "    if limit_type == KargerLimits.limit_n2logn:\n",
    "      return round(n**2 * log(n))\n",
    "    if limit_type == KargerLimits.limit:\n",
    "      return round(comb(n,2) * log(n))\n",
    "\n",
    "  def find_min_cuts(self, graph, limit_type=KargerLimits.limit):\n",
    "    cuts = []\n",
    "    limit = self.get_limit(limit_type, graph)\n",
    "    for i in range(limit): # note: technically n = limit: n^2 log(n) so we're pretty low but instructor indicates this should suffice\n",
    "      # while there are more than 2 vertices\n",
    "      # - pick an edge uniformly at random\n",
    "      # - contract edge\n",
    "      # - return cut represented by 2 final vertices\n",
    "      self.graph = copy.deepcopy(graph)\n",
    "      while len(self.graph) > 2:\n",
    "        x, y = self.get_edge()\n",
    "        self.contract_edge(x, y)\n",
    "      cuts.append(self.cut())\n",
    "    \n",
    "    return min(cuts)\n",
    "\n"
   ]
  },
  {
   "cell_type": "code",
   "execution_count": 4,
   "metadata": {},
   "outputs": [
    {
     "name": "stdout",
     "output_type": "stream",
     "text": [
      "17\n",
      "22.596684 seconds\n"
     ]
    }
   ],
   "source": [
    "def timeit(fn, sample_size=1):\n",
    "    elapsed_time = []\n",
    "    for i in range(sample_size):\n",
    "        t = time.process_time()\n",
    "        fn()\n",
    "        elapsed_time.append(time.process_time() - t)\n",
    "    print(mean(elapsed_time), 'seconds')\n",
    "\n",
    "def problem1():\n",
    "    k = Karger()\n",
    "    result = k.find_min_cuts(values, limit_type=KargerLimits.limit_n)\n",
    "    print(result)\n",
    "\n",
    "timeit(problem1)"
   ]
  }
 ],
 "metadata": {
  "interpreter": {
   "hash": "aee8b7b246df8f9039afb4144a1f6fd8d2ca17a180786b69acc140d282b71a49"
  },
  "kernelspec": {
   "display_name": "Python 3.9.1 64-bit",
   "name": "python3"
  },
  "language_info": {
   "codemirror_mode": {
    "name": "ipython",
    "version": 3
   },
   "file_extension": ".py",
   "mimetype": "text/x-python",
   "name": "python",
   "nbconvert_exporter": "python",
   "pygments_lexer": "ipython3",
   "version": "3.9.1"
  },
  "orig_nbformat": 3
 },
 "nbformat": 4,
 "nbformat_minor": 2
}